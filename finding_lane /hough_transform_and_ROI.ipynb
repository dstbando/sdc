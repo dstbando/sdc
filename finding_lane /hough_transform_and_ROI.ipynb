{
 "cells": [
  {
   "cell_type": "code",
   "execution_count": 1,
   "metadata": {},
   "outputs": [
    {
     "data": {
      "text/plain": [
       "<matplotlib.image.AxesImage at 0x10f720b00>"
      ]
     },
     "execution_count": 1,
     "metadata": {},
     "output_type": "execute_result"
    },
    {
     "data": {
      "image/png": "[encoded data removed]",
      "text/plain": [
       "<matplotlib.figure.Figure at 0x1060f95f8>"
      ]
     },
     "metadata": {},
     "output_type": "display_data"
    }
   ],
   "source": [
    "import matplotlib.pyplot as plt\n",
    "import matplotlib.image as mpimg\n",
    "import numpy as np\n",
    "import cv2\n",
    "%matplotlib inline\n",
    "\n",
    "# Read in and grayscale the image\n",
    "image = mpimg.imread('exit-ramp.jpg')\n",
    "gray = cv2.cvtColor(image,cv2.COLOR_RGB2GRAY)\n",
    "\n",
    "# Define a kernel size and apply Gaussian smoothing\n",
    "kernel_size = 5\n",
    "blur_gray = cv2.GaussianBlur(gray,(kernel_size, kernel_size),0)\n",
    "\n",
    "# Define our parameters for Canny and apply\n",
    "low_threshold = 50\n",
    "high_threshold = 150\n",
    "edges = cv2.Canny(blur_gray, low_threshold, high_threshold)\n",
    "\n",
    "# Next we'll create a masked edges image using cv2.fillPoly()\n",
    "mask = np.zeros_like(edges)   \n",
    "ignore_mask_color = 255   \n",
    "\n",
    "# This time we are defining a four sided polygon to mask\n",
    "imshape = image.shape\n",
    "vertices = np.array([[(50,imshape[0]), (465, 270), (480, 270), (imshape[1]-50,imshape[0])]], dtype=np.int32)\n",
    "cv2.fillPoly(mask, vertices, ignore_mask_color)\n",
    "masked_edges = cv2.bitwise_and(edges, mask)\n",
    "\n",
    "# Define the Hough transform parameters\n",
    "# Make a blank the same size as our image to draw on\n",
    "rho = 1 # distance resolution in pixels of the Hough grid\n",
    "theta = np.pi/180 # angular resolution in radians of the Hough grid\n",
    "threshold = 1     # minimum number of votes (intersections in Hough grid cell)\n",
    "min_line_length = 5 #minimum number of pixels making up a line\n",
    "max_line_gap = 1    # maximum gap in pixels between connectable line segments\n",
    "line_image = np.copy(image)*0 # creating a blank to draw lines on\n",
    "\n",
    "# Run Hough on edge detected image\n",
    "# Output \"lines\" is an array containing endpoints of detected line segments\n",
    "lines = cv2.HoughLinesP(masked_edges, rho, theta, threshold, np.array([]),\n",
    "                            min_line_length, max_line_gap)\n",
    "\n",
    "# Iterate over the output \"lines\" and draw lines on a blank image\n",
    "for line in lines:\n",
    "    for x1,y1,x2,y2 in line:\n",
    "        cv2.line(line_image,(x1,y1),(x2,y2),(255,0,0),10)\n",
    "\n",
    "# Create a \"color\" binary image to combine with line image\n",
    "color_edges = np.dstack((edges, edges, edges)) \n",
    "\n",
    "# Draw the lines on the edge image\n",
    "lines_edges = cv2.addWeighted(color_edges, 0.8, line_image, 1, 0) \n",
    "plt.imshow(lines_edges)\n",
    "\n"
   ]
  },
  {
   "cell_type": "code",
   "execution_count": 2,
   "metadata": {},
   "outputs": [
    {
     "name": "stdout",
     "output_type": "stream",
     "text": [
      "0.704241067236\n",
      "-0.781906986359\n",
      "0.223707860973\n",
      "0.208633662995\n"
     ]
    },
    {
     "data": {
      "text/plain": [
       "(array([  0.,   0.,   0.,   0.,   0.,   0.,   0.,   2.,   0.,  14.,   1.,\n",
       "         12.,   4.,   9.,  10.,   3.,   0.,   0.,   0.,   0.,   0.,   0.,\n",
       "          0.,   0.,   0.,   0.,   0.,   0.,   0.,   0.,   0.,   0.,   0.,\n",
       "          0.,   0.,   0.,   0.,   0.,   0.]),\n",
       " array([ -2.00000000e+00,  -1.90000000e+00,  -1.80000000e+00,\n",
       "         -1.70000000e+00,  -1.60000000e+00,  -1.50000000e+00,\n",
       "         -1.40000000e+00,  -1.30000000e+00,  -1.20000000e+00,\n",
       "         -1.10000000e+00,  -1.00000000e+00,  -9.00000000e-01,\n",
       "         -8.00000000e-01,  -7.00000000e-01,  -6.00000000e-01,\n",
       "         -5.00000000e-01,  -4.00000000e-01,  -3.00000000e-01,\n",
       "         -2.00000000e-01,  -1.00000000e-01,   1.77635684e-15,\n",
       "          1.00000000e-01,   2.00000000e-01,   3.00000000e-01,\n",
       "          4.00000000e-01,   5.00000000e-01,   6.00000000e-01,\n",
       "          7.00000000e-01,   8.00000000e-01,   9.00000000e-01,\n",
       "          1.00000000e+00,   1.10000000e+00,   1.20000000e+00,\n",
       "          1.30000000e+00,   1.40000000e+00,   1.50000000e+00,\n",
       "          1.60000000e+00,   1.70000000e+00,   1.80000000e+00,\n",
       "          1.90000000e+00]),\n",
       " <a list of 39 Patch objects>)"
      ]
     },
     "execution_count": 2,
     "metadata": {},
     "output_type": "execute_result"
    },
    {
     "data": {
      "image/png": "[encoded data removed]",
      "text/plain": [
       "<matplotlib.figure.Figure at 0x10f72b668>"
      ]
     },
     "metadata": {},
     "output_type": "display_data"
    }
   ],
   "source": [
    "# gradients for detected lines\n",
    "gradients = (lines[:,:,3] - lines[:,:,1]) / (lines[:,:,2]-lines[:,:,0])\n",
    "pIndx = np.logical_and(abs(gradients)>0.25, abs(gradients)<2)\n",
    "ppIndx = np.logical_and(gradients>0, pIndx)\n",
    "npIndx = np.logical_and(gradients<0, pIndx)\n",
    "\n",
    "print (np.mean(gradients[ppIndx]))\n",
    "print (np.mean(gradients[npIndx]))\n",
    "\n",
    "print (np.std(gradients[ppIndx]))\n",
    "print (np.std(gradients[npIndx]))\n",
    "\n",
    "plt.hist(gradients[ppIndx], bins=np.arange(-2,2,0.1))\n",
    "plt.hist(gradients[npIndx], bins=np.arange(-2,2,0.1))"
   ]
  },
  {
   "cell_type": "code",
   "execution_count": 3,
   "metadata": {},
   "outputs": [
    {
     "name": "stdout",
     "output_type": "stream",
     "text": [
      "-47.8151575126\n",
      "643.279027974\n",
      "127.375657206\n",
      "68.7219555731\n"
     ]
    },
    {
     "data": {
      "text/plain": [
       "(array([ 2.,  2.,  0.,  2.,  5.,  4.,  5.,  3.,  2.,  4.,  3.,  4.,  3.,\n",
       "         2.,  6.,  3.,  2.,  1.,  0.,  0.,  1.,  0.,  0.,  0.,  1.]),\n",
       " array([ 514.  ,  527.37,  540.74,  554.11,  567.48,  580.85,  594.22,\n",
       "         607.59,  620.96,  634.33,  647.7 ,  661.07,  674.44,  687.81,\n",
       "         701.18,  714.55,  727.92,  741.29,  754.66,  768.03,  781.4 ,\n",
       "         794.77,  808.14,  821.51,  834.88,  848.25]),\n",
       " <a list of 25 Patch objects>)"
      ]
     },
     "execution_count": 3,
     "metadata": {},
     "output_type": "execute_result"
    },
    {
     "data": {
      "image/png": "[encoded data removed]",
      "text/plain": [
       "<matplotlib.figure.Figure at 0x103cb5a58>"
      ]
     },
     "metadata": {},
     "output_type": "display_data"
    }
   ],
   "source": [
    "#biases for detected lines\n",
    "\n",
    "print (np.mean(lines[ppIndx,3] - gradients[ppIndx]*lines[ppIndx,2]))\n",
    "print (np.mean(lines[npIndx,3] - gradients[npIndx]*lines[npIndx,2]))\n",
    "\n",
    "print (np.std(lines[ppIndx,3] - gradients[ppIndx]*lines[ppIndx,2]))\n",
    "print (np.std(lines[npIndx,3] - gradients[npIndx]*lines[npIndx,2]))\n",
    "\n",
    "#plt.hist(lines[pIndx,3] - gradients[pIndx]*lines[pIndx,2], bins=100)\n",
    "plt.hist(lines[ppIndx,3] - gradients[ppIndx]*lines[ppIndx,2], bins=25)\n",
    "plt.hist(lines[npIndx,3] - gradients[npIndx]*lines[npIndx,2], bins=25)"
   ]
  },
  {
   "cell_type": "code",
   "execution_count": 55,
   "metadata": {},
   "outputs": [
    {
     "name": "stdout",
     "output_type": "stream",
     "text": [
      "elapsed_time:0.00026297569274902344[sec]\n",
      "elapsed_time:0.00045299530029296875[sec]\n"
     ]
    }
   ],
   "source": [
    "import time\n",
    "alines = lines[pIndx,:]\n",
    "\n",
    "start = time.time()\n",
    "# naive implementation\n",
    "np.sqrt(np.power(lines[pIndx,2]-lines[pIndx,0], 2) + np.power(lines[pIndx,3] - lines[pIndx,1], 2))\n",
    "\n",
    "elapsed_time = time.time() - start\n",
    "print (\"elapsed_time:{0}\".format(elapsed_time) + \"[sec]\")\n",
    "\n",
    "start = time.time()\n",
    "# numpy\n",
    "np.linalg.norm(np.c_[alines[:,2] - alines[:,0], alines[:,3]-alines[:,1]], 2, 1)\n",
    "\n",
    "elapsed_time = time.time() - start\n",
    "print (\"elapsed_time:{0}\".format(elapsed_time) + \"[sec]\")"
   ]
  },
  {
   "cell_type": "code",
   "execution_count": 110,
   "metadata": {},
   "outputs": [
    {
     "data": {
      "text/plain": [
       "(array([ 72.,  17.,   7.,   2.,   1.,   0.,   3.,   2.,   1.,   2.]),\n",
       " array([ 0.00371239,  0.00785747,  0.01200255,  0.01614763,  0.02029271,\n",
       "         0.02443779,  0.02858287,  0.03272795,  0.03687303,  0.0410181 ,\n",
       "         0.04516318]),\n",
       " <a list of 10 Patch objects>)"
      ]
     },
     "execution_count": 110,
     "metadata": {},
     "output_type": "execute_result"
    },
    {
     "data": {
      "image/png": "[encoded data removed]",
      "text/plain": [
       "<matplotlib.figure.Figure at 0x11180cfd0>"
      ]
     },
     "metadata": {},
     "output_type": "display_data"
    }
   ],
   "source": [
    "line_length = np.sqrt(np.power(lines[pIndx,2]-lines[pIndx,0], 2) + np.power(lines[pIndx,3] - lines[pIndx,1], 2))\n",
    "weight_l = line_length / line_length.sum()\n",
    "plt.hist(weight_l)"
   ]
  },
  {
   "cell_type": "code",
   "execution_count": 111,
   "metadata": {},
   "outputs": [
    {
     "data": {
      "text/plain": [
       "(array([  9.,  15.,  12.,  13.,  14.,  16.,   8.,   9.,   5.,   6.]),\n",
       " array([ 0.00424227,  0.00538425,  0.00652622,  0.00766819,  0.00881016,\n",
       "         0.00995213,  0.01109411,  0.01223608,  0.01337805,  0.01452002,\n",
       "         0.015662  ]),\n",
       " <a list of 10 Patch objects>)"
      ]
     },
     "execution_count": 111,
     "metadata": {},
     "output_type": "execute_result"
    },
    {
     "data": {
      "image/png": "[encoded data removed]",
      "text/plain": [
       "<matplotlib.figure.Figure at 0x11180eb00>"
      ]
     },
     "metadata": {},
     "output_type": "display_data"
    }
   ],
   "source": [
    "ymax2 = np.power(lines[pIndx][:,[1,3]].max(axis=1), 2)\n",
    "weight_y = ymax2 / ymax2.sum()\n",
    "plt.hist(weight_y)"
   ]
  },
  {
   "cell_type": "code",
   "execution_count": 113,
   "metadata": {},
   "outputs": [
    {
     "name": "stdout",
     "output_type": "stream",
     "text": [
      "1.0\n"
     ]
    },
    {
     "data": {
      "text/plain": [
       "(array([ 37.,  43.,  16.,   2.,   0.,   2.,   2.,   1.,   3.,   1.]),\n",
       " array([ 0.00460671,  0.0071873 ,  0.00976788,  0.01234847,  0.01492906,\n",
       "         0.01750965,  0.02009024,  0.02267083,  0.02525141,  0.027832  ,\n",
       "         0.03041259]),\n",
       " <a list of 10 Patch objects>)"
      ]
     },
     "execution_count": 113,
     "metadata": {},
     "output_type": "execute_result"
    },
    {
     "data": {
      "image/png": "[encoded data removed]",
      "text/plain": [
       "<matplotlib.figure.Figure at 0x1118c4198>"
      ]
     },
     "metadata": {},
     "output_type": "display_data"
    }
   ],
   "source": [
    "weight = weight_l + weight_y\n",
    "weight = weight / weight.sum()\n",
    "print(weight.sum())\n",
    "plt.hist(weight)"
   ]
  },
  {
   "cell_type": "code",
   "execution_count": 119,
   "metadata": {},
   "outputs": [
    {
     "data": {
      "text/plain": [
       "array([[383, 341, 399, 329],\n",
       "       [579, 349, 602, 362],\n",
       "       [257, 427, 270, 417],\n",
       "       [401, 329, 435, 302],\n",
       "       [646, 405, 661, 414],\n",
       "       [498, 290, 506, 296],\n",
       "       [161, 491, 197, 466],\n",
       "       [252, 438, 262, 433],\n",
       "       [666, 403, 674, 409],\n",
       "       [347, 373, 352, 367],\n",
       "       [218, 452, 226, 448],\n",
       "       [780, 498, 824, 528],\n",
       "       [719, 436, 725, 441],\n",
       "       [624, 390, 642, 401],\n",
       "       [677, 411, 685, 415],\n",
       "       [771, 470, 800, 487],\n",
       "       [199, 466, 206, 460],\n",
       "       [730, 463, 767, 488],\n",
       "       [336, 374, 342, 368],\n",
       "       [142, 517, 190, 484],\n",
       "       [597, 369, 604, 375],\n",
       "       [497, 294, 546, 334],\n",
       "       [389, 342, 396, 336],\n",
       "       [263, 431, 268, 429],\n",
       "       [825, 504, 881, 538],\n",
       "       [379, 348, 393, 338],\n",
       "       [398, 335, 408, 329],\n",
       "       [423, 317, 440, 301],\n",
       "       [487, 274, 491, 280],\n",
       "       [ 90, 537, 134, 509],\n",
       "       [523, 310, 528, 315],\n",
       "       [125, 530, 132, 524],\n",
       "       [611, 379, 616, 384],\n",
       "       [691, 436, 711, 449],\n",
       "       [736, 448, 752, 457],\n",
       "       [708, 429, 714, 434],\n",
       "       [285, 417, 290, 412],\n",
       "       [755, 460, 763, 465],\n",
       "       [579, 356, 591, 366],\n",
       "       [274, 423, 279, 421],\n",
       "       [346, 367, 351, 362],\n",
       "       [ 89, 538,  98, 533],\n",
       "       [630, 381, 642, 388],\n",
       "       [386, 321, 392, 318],\n",
       "       [307, 392, 320, 384],\n",
       "       [320, 392, 327, 386],\n",
       "       [326, 381, 331, 376],\n",
       "       [417, 322, 425, 314],\n",
       "       [657, 412, 667, 418],\n",
       "       [303, 404, 313, 396],\n",
       "       [570, 350, 576, 355],\n",
       "       [223, 461, 231, 454],\n",
       "       [826, 504, 835, 509],\n",
       "       [505, 296, 520, 309],\n",
       "       [151, 497, 157, 494],\n",
       "       [755, 481, 762, 485],\n",
       "       [715, 453, 728, 461],\n",
       "       [767, 489, 779, 496],\n",
       "       [675, 425, 685, 431],\n",
       "       [605, 365, 621, 374],\n",
       "       [408, 328, 414, 324],\n",
       "       [357, 365, 362, 360],\n",
       "       [297, 399, 309, 392],\n",
       "       [291, 440, 296, 435],\n",
       "       [203, 475, 210, 469],\n",
       "       [250, 432, 255, 427],\n",
       "       [353, 362, 362, 354],\n",
       "       [237, 451, 243, 445],\n",
       "       [429, 312, 433, 307],\n",
       "       [570, 343, 575, 345],\n",
       "       [137, 520, 146, 515],\n",
       "       [212, 468, 219, 464],\n",
       "       [279, 411, 284, 409],\n",
       "       [690, 435, 700, 441],\n",
       "       [179, 491, 188, 485],\n",
       "       [711, 450, 717, 453],\n",
       "       [241, 448, 247, 442],\n",
       "       [519, 307, 524, 312],\n",
       "       [645, 404, 656, 410],\n",
       "       [557, 342, 566, 347],\n",
       "       [519, 313, 530, 322],\n",
       "       [645, 390, 653, 396],\n",
       "       [492, 287, 496, 293],\n",
       "       [589, 363, 595, 369],\n",
       "       [733, 446, 738, 448],\n",
       "       [695, 422, 700, 424],\n",
       "       [658, 398, 666, 404],\n",
       "       [339, 379, 344, 374],\n",
       "       [687, 417, 692, 419],\n",
       "       [191, 482, 197, 479],\n",
       "       [323, 383, 328, 378],\n",
       "       [814, 496, 819, 500],\n",
       "       [785, 501, 793, 506],\n",
       "       [547, 327, 553, 332],\n",
       "       [221, 450, 227, 446],\n",
       "       [329, 386, 337, 379],\n",
       "       [295, 401, 300, 398],\n",
       "       [435, 307, 444, 298],\n",
       "       [391, 336, 397, 331],\n",
       "       [305, 403, 312, 397],\n",
       "       [292, 412, 297, 407],\n",
       "       [717, 436, 722, 439],\n",
       "       [538, 321, 544, 326],\n",
       "       [432, 304, 437, 300],\n",
       "       [794, 484, 799, 487],\n",
       "       [120, 517, 127, 513],\n",
       "       [727, 442, 733, 445]], dtype=int32)"
      ]
     },
     "execution_count": 119,
     "metadata": {},
     "output_type": "execute_result"
    }
   ],
   "source": [
    "lines[pIndx]"
   ]
  },
  {
   "cell_type": "code",
   "execution_count": null,
   "metadata": {
    "collapsed": true
   },
   "outputs": [],
   "source": []
  }
 ],
 "metadata": {
  "kernelspec": {
   "display_name": "Python 3",
   "language": "python",
   "name": "python3"
  },
  "language_info": {
   "codemirror_mode": {
    "name": "ipython",
    "version": 3
   },
   "file_extension": ".py",
   "mimetype": "text/x-python",
   "name": "python",
   "nbconvert_exporter": "python",
   "pygments_lexer": "ipython3",
   "version": "3.4.3"
  }
 },
 "nbformat": 4,
 "nbformat_minor": 2
}
