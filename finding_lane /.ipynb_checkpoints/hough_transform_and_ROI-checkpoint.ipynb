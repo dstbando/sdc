{
 "cells": [
  {
   "cell_type": "code",
   "execution_count": 1,
   "metadata": {},
   "outputs": [
    {
     "data": {
      "text/plain": [
       "<matplotlib.image.AxesImage at 0x110fc0b70>"
      ]
     },
     "execution_count": 1,
     "metadata": {},
     "output_type": "execute_result"
    },
    {
     "data": {
      "image/png": "[encoded data removed]",
      "text/plain": [
       "<matplotlib.figure.Figure at 0x10f335470>"
      ]
     },
     "metadata": {},
     "output_type": "display_data"
    }
   ],
   "source": [
    "import matplotlib.pyplot as plt\n",
    "import matplotlib.image as mpimg\n",
    "import numpy as np\n",
    "import cv2\n",
    "%matplotlib inline\n",
    "\n",
    "# Read in and grayscale the image\n",
    "image = mpimg.imread('exit-ramp.jpg')\n",
    "gray = cv2.cvtColor(image,cv2.COLOR_RGB2GRAY)\n",
    "\n",
    "# Define a kernel size and apply Gaussian smoothing\n",
    "kernel_size = 5\n",
    "blur_gray = cv2.GaussianBlur(gray,(kernel_size, kernel_size),0)\n",
    "\n",
    "# Define our parameters for Canny and apply\n",
    "low_threshold = 50\n",
    "high_threshold = 150\n",
    "edges = cv2.Canny(blur_gray, low_threshold, high_threshold)\n",
    "\n",
    "# Next we'll create a masked edges image using cv2.fillPoly()\n",
    "mask = np.zeros_like(edges)   \n",
    "ignore_mask_color = 255   \n",
    "\n",
    "# This time we are defining a four sided polygon to mask\n",
    "imshape = image.shape\n",
    "vertices = np.array([[(50,imshape[0]), (465, 270), (480, 270), (imshape[1]-50,imshape[0])]], dtype=np.int32)\n",
    "cv2.fillPoly(mask, vertices, ignore_mask_color)\n",
    "masked_edges = cv2.bitwise_and(edges, mask)\n",
    "\n",
    "# Define the Hough transform parameters\n",
    "# Make a blank the same size as our image to draw on\n",
    "rho = 1 # distance resolution in pixels of the Hough grid\n",
    "theta = np.pi/180 # angular resolution in radians of the Hough grid\n",
    "threshold = 1     # minimum number of votes (intersections in Hough grid cell)\n",
    "min_line_length = 5 #minimum number of pixels making up a line\n",
    "max_line_gap = 1    # maximum gap in pixels between connectable line segments\n",
    "line_image = np.copy(image)*0 # creating a blank to draw lines on\n",
    "\n",
    "# Run Hough on edge detected image\n",
    "# Output \"lines\" is an array containing endpoints of detected line segments\n",
    "lines = cv2.HoughLinesP(masked_edges, rho, theta, threshold, np.array([]),\n",
    "                            min_line_length, max_line_gap)\n",
    "\n",
    "# Iterate over the output \"lines\" and draw lines on a blank image\n",
    "for line in lines:\n",
    "    for x1,y1,x2,y2 in line:\n",
    "        cv2.line(line_image,(x1,y1),(x2,y2),(255,0,0),10)\n",
    "\n",
    "# Create a \"color\" binary image to combine with line image\n",
    "color_edges = np.dstack((edges, edges, edges)) \n",
    "\n",
    "# Draw the lines on the edge image\n",
    "lines_edges = cv2.addWeighted(color_edges, 0.8, line_image, 1, 0) \n",
    "plt.imshow(lines_edges)\n",
    "\n"
   ]
  },
  {
   "cell_type": "code",
   "execution_count": 5,
   "metadata": {},
   "outputs": [
    {
     "data": {
      "text/plain": [
       "(array([  1.,   0.,   0.,   0.,   0.,   0.,   0.,   2.,   0.,  14.,   1.,\n",
       "         12.,   4.,   9.,  10.,   3.,   0.,   0.,   0.,   5.,   1.,   0.,\n",
       "          0.,   4.,   3.,  16.,   8.,   5.,  10.,   4.,   0.,   0.,   0.,\n",
       "          0.,   2.,   0.,   0.,   0.,   0.]),\n",
       " array([ -2.00000000e+00,  -1.90000000e+00,  -1.80000000e+00,\n",
       "         -1.70000000e+00,  -1.60000000e+00,  -1.50000000e+00,\n",
       "         -1.40000000e+00,  -1.30000000e+00,  -1.20000000e+00,\n",
       "         -1.10000000e+00,  -1.00000000e+00,  -9.00000000e-01,\n",
       "         -8.00000000e-01,  -7.00000000e-01,  -6.00000000e-01,\n",
       "         -5.00000000e-01,  -4.00000000e-01,  -3.00000000e-01,\n",
       "         -2.00000000e-01,  -1.00000000e-01,   1.77635684e-15,\n",
       "          1.00000000e-01,   2.00000000e-01,   3.00000000e-01,\n",
       "          4.00000000e-01,   5.00000000e-01,   6.00000000e-01,\n",
       "          7.00000000e-01,   8.00000000e-01,   9.00000000e-01,\n",
       "          1.00000000e+00,   1.10000000e+00,   1.20000000e+00,\n",
       "          1.30000000e+00,   1.40000000e+00,   1.50000000e+00,\n",
       "          1.60000000e+00,   1.70000000e+00,   1.80000000e+00,\n",
       "          1.90000000e+00]),\n",
       " <a list of 39 Patch objects>)"
      ]
     },
     "execution_count": 5,
     "metadata": {},
     "output_type": "execute_result"
    },
    {
     "data": {
      "image/png": "[encoded data removed]",
      "text/plain": [
       "<matplotlib.figure.Figure at 0x10f969588>"
      ]
     },
     "metadata": {},
     "output_type": "display_data"
    }
   ],
   "source": [
    "plt.hist((lines[:,:,3] - lines[:,:,1]) / (lines[:,:,2]-lines[:,:,0]), bins=np.arange(-2,2,0.1))"
   ]
  },
  {
   "cell_type": "code",
   "execution_count": 6,
   "metadata": {},
   "outputs": [
    {
     "data": {
      "text/plain": [
       "(array([  2.,   0.,   0.,   0.,   0.,   0.,   4.,   2.,   5.,   5.,   5.,\n",
       "          2.,   3.,  11.,   5.,   2.,   2.,   1.,   2.,   1.,   0.,   1.,\n",
       "          2.,   1.,   1.,   0.,   0.,   1.,   0.,   1.,   3.,   2.,  10.,\n",
       "          7.,  10.,  13.,   4.,   3.,   1.,   1.,   0.,   0.,   0.,   0.,\n",
       "          0.,   0.,   0.,   0.,   0.,   2.]),\n",
       " array([ -309.2       ,  -282.32266667,  -255.44533333,  -228.568     ,\n",
       "         -201.69066667,  -174.81333333,  -147.936     ,  -121.05866667,\n",
       "          -94.18133333,   -67.304     ,   -40.42666667,   -13.54933333,\n",
       "           13.328     ,    40.20533333,    67.08266667,    93.96      ,\n",
       "          120.83733333,   147.71466667,   174.592     ,   201.46933333,\n",
       "          228.34666667,   255.224     ,   282.10133333,   308.97866667,\n",
       "          335.856     ,   362.73333333,   389.61066667,   416.488     ,\n",
       "          443.36533333,   470.24266667,   497.12      ,   523.99733333,\n",
       "          550.87466667,   577.752     ,   604.62933333,   631.50666667,\n",
       "          658.384     ,   685.26133333,   712.13866667,   739.016     ,\n",
       "          765.89333333,   792.77066667,   819.648     ,   846.52533333,\n",
       "          873.40266667,   900.28      ,   927.15733333,   954.03466667,\n",
       "          980.912     ,  1007.78933333,  1034.66666667]),\n",
       " <a list of 50 Patch objects>)"
      ]
     },
     "execution_count": 6,
     "metadata": {},
     "output_type": "execute_result"
    },
    {
     "data": {
      "image/png": "[encoded data removed]",
      "text/plain": [
       "<matplotlib.figure.Figure at 0x111c96240>"
      ]
     },
     "metadata": {},
     "output_type": "display_data"
    }
   ],
   "source": [
    "plt.hist(lines[:,:,3] - ((lines[:,:,3] - lines[:,:,1]) / (lines[:,:,2]-lines[:,:,0]+1))*lines[:,:,2], bins=50)"
   ]
  },
  {
   "cell_type": "code",
   "execution_count": null,
   "metadata": {
    "collapsed": true
   },
   "outputs": [],
   "source": []
  }
 ],
 "metadata": {
  "kernelspec": {
   "display_name": "Python 3",
   "language": "python",
   "name": "python3"
  },
  "language_info": {
   "codemirror_mode": {
    "name": "ipython",
    "version": 3
   },
   "file_extension": ".py",
   "mimetype": "text/x-python",
   "name": "python",
   "nbconvert_exporter": "python",
   "pygments_lexer": "ipython3",
   "version": "3.4.3"
  }
 },
 "nbformat": 4,
 "nbformat_minor": 2
}
