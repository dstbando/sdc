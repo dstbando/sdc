{
 "cells": [
  {
   "cell_type": "code",
   "execution_count": 5,
   "metadata": {},
   "outputs": [
    {
     "data": {
      "text/plain": [
       "<matplotlib.image.AxesImage at 0x11be61198>"
      ]
     },
     "execution_count": 5,
     "metadata": {},
     "output_type": "execute_result"
    },
    {
     "data": {
      "image/png": "[encoded data removed]",
      "text/plain": [
       "<matplotlib.figure.Figure at 0x1104d6f98>"
      ]
     },
     "metadata": {},
     "output_type": "display_data"
    }
   ],
   "source": [
    "# Do relevant imports\n",
    "import matplotlib.pyplot as plt\n",
    "import matplotlib.image as mpimg\n",
    "import numpy as np\n",
    "import cv2\n",
    "%matplotlib inline\n",
    "\n",
    "\n",
    "# Read in and grayscale the image\n",
    "image = mpimg.imread('exit-ramp.jpg')\n",
    "gray = cv2.cvtColor(image,cv2.COLOR_RGB2GRAY)\n",
    "\n",
    "# Define a kernel size and apply Gaussian smoothing\n",
    "kernel_size = 11\n",
    "blur_gray = cv2.GaussianBlur(gray,(kernel_size, kernel_size),0)\n",
    "\n",
    "# Define our parameters for Canny and apply\n",
    "low_threshold = 50\n",
    "high_threshold = 150\n",
    "edges = cv2.Canny(blur_gray, low_threshold, high_threshold)\n",
    "\n",
    "# Define the Hough transform parameters\n",
    "# Make a blank the same size as our image to draw on\n",
    "rho = 1\n",
    "theta = np.pi/180\n",
    "threshold = 1\n",
    "min_line_length = 10\n",
    "max_line_gap = 1\n",
    "line_image = np.copy(image)*0 #creating a blank to draw lines on\n",
    "\n",
    "# Run Hough on edge detected image\n",
    "lines = cv2.HoughLinesP(edges, rho, theta, threshold, np.array([]),\n",
    "                            min_line_length, max_line_gap)\n",
    "\n",
    "# Iterate over the output \"lines\" and draw lines on the blank\n",
    "for line in lines:\n",
    "    for x1,y1,x2,y2 in line:\n",
    "        cv2.line(line_image,(x1,y1),(x2,y2),(255,0,0),10)\n",
    "\n",
    "# Create a \"color\" binary image to combine with line image\n",
    "color_edges = np.dstack((edges, edges, edges)) \n",
    "\n",
    "# Draw the lines on the edge image\n",
    "combo = cv2.addWeighted(color_edges, 0.8, line_image, 1, 0) \n",
    "plt.imshow(combo)"
   ]
  },
  {
   "cell_type": "code",
   "execution_count": 25,
   "metadata": {},
   "outputs": [
    {
     "data": {
      "text/plain": [
       "(array([  1.,   0.,   1.,   0.,   0.,   0.,   1.,   0.,   0.,   1.,  10.,\n",
       "         26.,  24.,  10.,  15.,   3.,   8.,   1.,   0.,   0.,   0.,   0.,\n",
       "          1.,   0.,   0.,   0.,   0.,   0.,   0.,   0.,   0.,   0.,   0.,\n",
       "          0.,   0.,   0.,   0.,   0.,   0.,   0.,   0.,   0.,   0.,   0.,\n",
       "          0.,   0.,   0.,   0.,   0.,   1.]),\n",
       " array([-1196.  , -1086.88,  -977.76,  -868.64,  -759.52,  -650.4 ,\n",
       "         -541.28,  -432.16,  -323.04,  -213.92,  -104.8 ,     4.32,\n",
       "          113.44,   222.56,   331.68,   440.8 ,   549.92,   659.04,\n",
       "          768.16,   877.28,   986.4 ,  1095.52,  1204.64,  1313.76,\n",
       "         1422.88,  1532.  ,  1641.12,  1750.24,  1859.36,  1968.48,\n",
       "         2077.6 ,  2186.72,  2295.84,  2404.96,  2514.08,  2623.2 ,\n",
       "         2732.32,  2841.44,  2950.56,  3059.68,  3168.8 ,  3277.92,\n",
       "         3387.04,  3496.16,  3605.28,  3714.4 ,  3823.52,  3932.64,\n",
       "         4041.76,  4150.88,  4260.  ]),\n",
       " <a list of 50 Patch objects>)"
      ]
     },
     "execution_count": 25,
     "metadata": {},
     "output_type": "execute_result"
    },
    {
     "data": {
      "image/png": "[encoded data removed]",
      "text/plain": [
       "<matplotlib.figure.Figure at 0x11be906a0>"
      ]
     },
     "metadata": {},
     "output_type": "display_data"
    }
   ],
   "source": [
    "plt.hist(lines[:,:,3] - ((lines[:,:,3] - lines[:,:,1]) / (lines[:,:,2]-lines[:,:,0]+1))*lines[:,:,2], bins=50)"
   ]
  },
  {
   "cell_type": "code",
   "execution_count": 36,
   "metadata": {},
   "outputs": [
    {
     "data": {
      "text/plain": [
       "(array([  0.,   0.,   0.,   0.,   0.,   0.,   0.,   0.,   0.,   0.,   0.,\n",
       "          0.,   0.,   0.,   0.,   0.,   0.,   0.,   0.,   0.,   0.,   0.,\n",
       "          0.,   0.,   0.,   1.,   4.,   1.,   1.,   1.,   1.,   0.,   2.,\n",
       "          0.,   3.,   3.,   5.,   2.,   5.,  18.,   0.,   3.,   4.,   0.,\n",
       "          3.,   1.,   9.,   0.,   0.,   7.,   5.,   6.,   1.,   4.,   5.,\n",
       "          0.,   0.,   0.,   0.,   0.,   0.,   0.,   0.,   0.,   0.,   0.,\n",
       "          0.,   0.,   0.,   0.,   0.,   0.,   0.,   0.,   0.,   0.,   0.,\n",
       "          0.,   0.]),\n",
       " array([ -2.00000000e+00,  -1.95000000e+00,  -1.90000000e+00,\n",
       "         -1.85000000e+00,  -1.80000000e+00,  -1.75000000e+00,\n",
       "         -1.70000000e+00,  -1.65000000e+00,  -1.60000000e+00,\n",
       "         -1.55000000e+00,  -1.50000000e+00,  -1.45000000e+00,\n",
       "         -1.40000000e+00,  -1.35000000e+00,  -1.30000000e+00,\n",
       "         -1.25000000e+00,  -1.20000000e+00,  -1.15000000e+00,\n",
       "         -1.10000000e+00,  -1.05000000e+00,  -1.00000000e+00,\n",
       "         -9.50000000e-01,  -9.00000000e-01,  -8.50000000e-01,\n",
       "         -8.00000000e-01,  -7.50000000e-01,  -7.00000000e-01,\n",
       "         -6.50000000e-01,  -6.00000000e-01,  -5.50000000e-01,\n",
       "         -5.00000000e-01,  -4.50000000e-01,  -4.00000000e-01,\n",
       "         -3.50000000e-01,  -3.00000000e-01,  -2.50000000e-01,\n",
       "         -2.00000000e-01,  -1.50000000e-01,  -1.00000000e-01,\n",
       "         -5.00000000e-02,   1.77635684e-15,   5.00000000e-02,\n",
       "          1.00000000e-01,   1.50000000e-01,   2.00000000e-01,\n",
       "          2.50000000e-01,   3.00000000e-01,   3.50000000e-01,\n",
       "          4.00000000e-01,   4.50000000e-01,   5.00000000e-01,\n",
       "          5.50000000e-01,   6.00000000e-01,   6.50000000e-01,\n",
       "          7.00000000e-01,   7.50000000e-01,   8.00000000e-01,\n",
       "          8.50000000e-01,   9.00000000e-01,   9.50000000e-01,\n",
       "          1.00000000e+00,   1.05000000e+00,   1.10000000e+00,\n",
       "          1.15000000e+00,   1.20000000e+00,   1.25000000e+00,\n",
       "          1.30000000e+00,   1.35000000e+00,   1.40000000e+00,\n",
       "          1.45000000e+00,   1.50000000e+00,   1.55000000e+00,\n",
       "          1.60000000e+00,   1.65000000e+00,   1.70000000e+00,\n",
       "          1.75000000e+00,   1.80000000e+00,   1.85000000e+00,\n",
       "          1.90000000e+00,   1.95000000e+00]),\n",
       " <a list of 79 Patch objects>)"
      ]
     },
     "execution_count": 36,
     "metadata": {},
     "output_type": "execute_result"
    },
    {
     "data": {
      "image/png": "[encoded data removed]",
      "text/plain": [
       "<matplotlib.figure.Figure at 0x11dea59e8>"
      ]
     },
     "metadata": {},
     "output_type": "display_data"
    }
   ],
   "source": [
    "plt.hist((lines[:,:,3] - lines[:,:,1]) / (lines[:,:,2]-lines[:,:,0]+1), bins=np.arange(-2,2,0.05))"
   ]
  },
  {
   "cell_type": "code",
   "execution_count": null,
   "metadata": {
    "collapsed": true
   },
   "outputs": [],
   "source": []
  }
 ],
 "metadata": {
  "kernelspec": {
   "display_name": "Python 3",
   "language": "python",
   "name": "python3"
  },
  "language_info": {
   "codemirror_mode": {
    "name": "ipython",
    "version": 3
   },
   "file_extension": ".py",
   "mimetype": "text/x-python",
   "name": "python",
   "nbconvert_exporter": "python",
   "pygments_lexer": "ipython3",
   "version": "3.4.3"
  }
 },
 "nbformat": 4,
 "nbformat_minor": 2
}
